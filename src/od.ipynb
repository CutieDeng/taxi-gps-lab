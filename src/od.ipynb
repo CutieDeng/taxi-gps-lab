{
 "cells": [
  {
   "cell_type": "code",
   "execution_count": 2,
   "metadata": {},
   "outputs": [],
   "source": [
    "import pandas as pd\n",
    "import geopandas as gpd\n",
    "import json\n",
    "from shapely.geometry import Point, LineString"
   ]
  },
  {
   "cell_type": "code",
   "execution_count": 33,
   "metadata": {},
   "outputs": [],
   "source": [
    "# data_frames = []\n",
    "\n",
    "# for i in range(1, 16):\n",
    "#     file_name = f\"../res/result{i}.csv\"\n",
    "#     df = pd.read_csv(file_name)\n",
    "#     data_frames.append(df)\n",
    "\n",
    "# # 使用 concat 函数将所有 DataFrame 合并为一个\n",
    "# result = pd.concat(data_frames)\n",
    "\n",
    "# result.to_csv(\"../res/sample_taxi_region.csv\")\n",
    "df_order = pd.read_csv(\"../res/sample_taxi_region.csv\")"
   ]
  },
  {
   "cell_type": "code",
   "execution_count": 34,
   "metadata": {},
   "outputs": [],
   "source": [
    "# 按照出租车编号对数据进行分组\n",
    "df_grouped = df_order.groupby('taxi_id')"
   ]
  },
  {
   "cell_type": "code",
   "execution_count": 35,
   "metadata": {},
   "outputs": [
    {
     "name": "stdout",
     "output_type": "stream",
     "text": [
      "<class 'pandas.core.groupby.generic.DataFrameGroupBy'>\n",
      "<class 'pandas.core.frame.DataFrame'>\n"
     ]
    }
   ],
   "source": [
    "# from datetime import datetime\n",
    "# # 定义一个将时间字符串转换为datetime类型的函数\n",
    "# def convert_time(time_string):\n",
    "#     return datetime.strptime(time_string, '%H:%M:%S')\n",
    "\n",
    "# # 使用apply行向量函数将整个时间列转换为datetime类型\n",
    "# df_grouped['time'] = df_grouped['time'].apply(lambda x: convert_time(x))\n",
    "# print(df_grouped.head(1000))\n",
    "print(type(df_grouped))\n",
    "df_grouped_slice = df_grouped.head(1000)\n",
    "print(type(df_grouped_slice))"
   ]
  },
  {
   "cell_type": "code",
   "execution_count": 32,
   "metadata": {},
   "outputs": [
    {
     "ename": "NameError",
     "evalue": "name 'df_grouped' is not defined",
     "output_type": "error",
     "traceback": [
      "\u001b[1;31m---------------------------------------------------------------------------\u001b[0m",
      "\u001b[1;31mNameError\u001b[0m                                 Traceback (most recent call last)",
      "\u001b[1;32mc:\\Users\\USER\\JupyterNotebookProjects\\CS306\\taxi_dm\\src\\od.ipynb 单元格 5\u001b[0m in \u001b[0;36m3\n\u001b[0;32m      <a href='vscode-notebook-cell:/c%3A/Users/USER/JupyterNotebookProjects/CS306/taxi_dm/src/od.ipynb#W4sZmlsZQ%3D%3D?line=0'>1</a>\u001b[0m \u001b[39m# 分别处理每个出租车的订单\u001b[39;00m\n\u001b[0;32m      <a href='vscode-notebook-cell:/c%3A/Users/USER/JupyterNotebookProjects/CS306/taxi_dm/src/od.ipynb#W4sZmlsZQ%3D%3D?line=1'>2</a>\u001b[0m orders \u001b[39m=\u001b[39m []\n\u001b[1;32m----> <a href='vscode-notebook-cell:/c%3A/Users/USER/JupyterNotebookProjects/CS306/taxi_dm/src/od.ipynb#W4sZmlsZQ%3D%3D?line=2'>3</a>\u001b[0m df_sorted \u001b[39m=\u001b[39m df_grouped\u001b[39m.\u001b[39mapply(\u001b[39mlambda\u001b[39;00m x: x\u001b[39m.\u001b[39msort_values(\u001b[39m'\u001b[39m\u001b[39mtime\u001b[39m\u001b[39m'\u001b[39m))\n\u001b[0;32m      <a href='vscode-notebook-cell:/c%3A/Users/USER/JupyterNotebookProjects/CS306/taxi_dm/src/od.ipynb#W4sZmlsZQ%3D%3D?line=3'>4</a>\u001b[0m df_sorted\u001b[39m.\u001b[39mto_csv(\u001b[39m'\u001b[39m\u001b[39m../res/sorted.csv\u001b[39m\u001b[39m'\u001b[39m)\n",
      "\u001b[1;31mNameError\u001b[0m: name 'df_grouped' is not defined"
     ]
    }
   ],
   "source": [
    "# 分别处理每个出租车的订单\n",
    "orders = []\n",
    "df_sorted = df_grouped.apply(lambda x: x.sort_values('time'))\n",
    "# df_sorted.to_csv('../res/sorted.csv')\n",
    "order_started = False\n",
    "order_start_lat = None\n",
    "order_start_lon = None\n",
    "order_end_lat = None\n",
    "order_end_lon = None\n",
    "order_start_district = None\n",
    "order_start_block = None\n",
    "order_end_district = None\n",
    "order_end_block = None\n",
    "for _, row in df_sorted.iterrows():\n",
    "    if row['is_passenger'] == 1 and not order_started:\n",
    "        # 如果订单开始，记录起始点位置和时间\n",
    "        order_start_lat = row['lat']\n",
    "        order_start_lon = row['lon']\n",
    "        order_start_time = row['time']\n",
    "        order_start_district = row['region']\n",
    "        order_start_block = row['block_id']\n",
    "        order_started = True\n",
    "    elif row['is_passenger'] == 0 and order_started:\n",
    "        # 如果订单结束，记录终点位置，添加订单记录\n",
    "        order_end_lat = row['lat']\n",
    "        order_end_lon = row['lon']\n",
    "        order_end_time = row['time']\n",
    "        order_end_district = row['region']\n",
    "        order_end_block = row['block_id']\n",
    "        orders.append((row['taxi_id'], order_start_lat, order_start_lon, order_end_lat, order_end_lon, order_start_time, order_end_time, order_start_district, order_start_block, order_end_district, order_end_block))\n",
    "        order_started = False"
   ]
  },
  {
   "cell_type": "code",
   "execution_count": 20,
   "metadata": {},
   "outputs": [],
   "source": [
    "# 将订单记录整合到DataFrame中\n",
    "orders_df = pd.DataFrame(orders, columns=['taxi_id', 'start_lat', 'start_lon', 'end_lat', 'end_lon', 'start_time', 'end_time', 'start_district', 'start_block', 'end_district', 'end_block'])\n",
    "orders_df.to_csv('../res/orders.csv', index=False)"
   ]
  },
  {
   "cell_type": "code",
   "execution_count": 53,
   "metadata": {},
   "outputs": [],
   "source": [
    "# 各区街道出发、到达数量统计\n",
    "df_orders = pd.read_csv('../res/orders.csv')\n",
    "\n",
    "# 根据district_block进行分组，统计每个区块的订单数量\n",
    "from_district_block = df_orders.groupby('start_block')['taxi_id'].count().sort_values(ascending=False)\n",
    "to_district_block = df_orders.groupby('end_block')['taxi_id'].count().sort_values(ascending=False)\n",
    "\n",
    "# print(from_district_block)\n",
    "from_district_block.to_csv('../res/from.csv')\n",
    "# print(to_district_block)\n",
    "\n",
    "import geopandas as gpd\n",
    "gdf = gpd.read_file('../res/sz_block_mars.json')\n",
    "\n",
    "grouped_from = df_orders.groupby(['start_block'])['taxi_id'].count()\n",
    "df_from = pd.DataFrame(grouped_from).reset_index().rename(columns={\"start_block\": \"BLOCK_ID\", \"taxi_id\": \"from_count\"})\n",
    "\n",
    "grouped_to = df_orders.groupby([\"end_block\"])[\"taxi_id\"].count()\n",
    "df_to = pd.DataFrame(grouped_to).reset_index().rename(columns={\"end_block\": \"BLOCK_ID\", \"taxi_id\": \"to_count\"})\n",
    "\n",
    "# print(df_from.columns)\n",
    "# print(df_to.columns)\n",
    "\n",
    "df_counts = pd.merge(df_from, df_to, on=[\"BLOCK_ID\"], how=\"outer\")\n",
    "\n",
    "df_counts[\"total_count\"] = df_counts[[\"from_count\", \"to_count\"]].sum(axis=1)\n",
    "\n",
    "df_counts.sort_values('BLOCK_ID').to_csv('../res/count.csv')\n",
    "# print(df_counts[(df_counts['BLOCK_ID']==-1) & (df_counts['DISTRICT']!='福田区')].shape[0])\n",
    "df_counts = df_counts[df_counts['BLOCK_ID']!=-1]\n",
    "\n",
    "# 将计数表格与GeoDataFrame合并，以保留区块的地理信息和其他属性信息\n",
    "gdf_counts = pd.merge(gdf, df_counts, on=[\"BLOCK_ID\"], how=\"outer\")\n",
    "\n",
    "# print(len(gdf))\n",
    "# print(gdf_counts.head(5))\n",
    "\n",
    "import numpy as np\n",
    "# 将计数信息写入属性表中\n",
    "gdf_counts[\"properties\"] = gdf_counts.apply(\n",
    "    lambda row: {\n",
    "        \"ID\": row[\"ID\"],\n",
    "        \"AREA\": row[\"AREA\"],\n",
    "        \"ID1\": row[\"ID1\"],\n",
    "        \"AREA1\": row[\"AREA1\"],\n",
    "        \"NAME\": row[\"NAME\"],\n",
    "        \"DISTRICT\": row[\"DISTRICT\"],\n",
    "        \"DISTRICT_I\": row[\"DISTRICT_I\"],\n",
    "        \"BLOCK_ID\": row[\"BLOCK_ID\"],\n",
    "        \"from_count\": row[\"from_count\"] if not np.isnan(row['from_count']) else 0,\n",
    "        \"to_count\": row[\"to_count\"] if not np.isnan(row['to_count']) else 0,\n",
    "        \"total_count\": row[\"total_count\"] if not np.isnan(row['total_count']) else 0\n",
    "    },\n",
    "    axis=1\n",
    ")\n",
    "\n",
    "# 提取所有区块的GeoDataFrame并保存到新的GeoJSON文件中\n",
    "gdf_counts[[\"geometry\", \"properties\"]].to_file(\"../res/sz_block_mars_with_count.json\", driver=\"GeoJSON\")"
   ]
  },
  {
   "cell_type": "code",
   "execution_count": 4,
   "metadata": {},
   "outputs": [
    {
     "name": "stdout",
     "output_type": "stream",
     "text": [
      "end_district         光明区       南山区       坪山区       宝安区       盐田区       福田区  \\\n",
      "start_district                                                               \n",
      "光明区             0.528090  0.022472  0.000000  0.314607  0.000000  0.011236   \n",
      "南山区             0.000963  0.728957  0.000170  0.087232  0.001246  0.126487   \n",
      "坪山区             0.000000  0.016393  0.409836  0.000000  0.000000  0.000000   \n",
      "宝安区             0.005139  0.123955  0.000087  0.770122  0.000958  0.053746   \n",
      "盐田区             0.001739  0.010435  0.000000  0.022609  0.460870  0.109565   \n",
      "福田区             0.000207  0.075002  0.000089  0.021336  0.003310  0.692781   \n",
      "罗湖区             0.000144  0.024374  0.000096  0.013169  0.010822  0.240387   \n",
      "龙华区             0.002390  0.028492  0.000191  0.020748  0.000861  0.071039   \n",
      "龙岗区             0.000139  0.007041  0.004740  0.008574  0.001464  0.044197   \n",
      "龙岗区2            0.000000  0.000000  0.333333  0.000000  0.333333  0.000000   \n",
      "\n",
      "end_district         罗湖区       龙华区       龙岗区      龙岗区2  \n",
      "start_district                                          \n",
      "光明区             0.000000  0.123596  0.000000  0.000000  \n",
      "南山区             0.024924  0.021298  0.008667  0.000057  \n",
      "坪山区             0.016393  0.000000  0.540984  0.016393  \n",
      "宝安区             0.016986  0.017596  0.011411  0.000000  \n",
      "盐田区             0.320000  0.019130  0.052174  0.003478  \n",
      "福田区             0.151305  0.028104  0.027779  0.000089  \n",
      "罗湖区             0.615572  0.015515  0.079778  0.000144  \n",
      "龙华区             0.025241  0.766134  0.084903  0.000000  \n",
      "龙岗区             0.081143  0.060579  0.792123  0.000000  \n",
      "龙岗区2            0.333333  0.000000  0.000000  0.000000  \n"
     ]
    }
   ],
   "source": [
    "# 从各区到各区的概率\n",
    "cross_tab = pd.crosstab(df_orders['start_district'], df_orders['end_district'], normalize='index')\n",
    "print(cross_tab)"
   ]
  }
 ],
 "metadata": {
  "kernelspec": {
   "display_name": "Python 3",
   "language": "python",
   "name": "python3"
  },
  "language_info": {
   "codemirror_mode": {
    "name": "ipython",
    "version": 3
   },
   "file_extension": ".py",
   "mimetype": "text/x-python",
   "name": "python",
   "nbconvert_exporter": "python",
   "pygments_lexer": "ipython3",
   "version": "3.10.8"
  },
  "orig_nbformat": 4
 },
 "nbformat": 4,
 "nbformat_minor": 2
}

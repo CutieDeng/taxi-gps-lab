{
 "cells": [
  {
   "cell_type": "code",
   "execution_count": 22,
   "metadata": {},
   "outputs": [],
   "source": [
    "import pandas as pd \n",
    "import json "
   ]
  },
  {
   "cell_type": "code",
   "execution_count": null,
   "metadata": {},
   "outputs": [],
   "source": [
    "data = pd.read_csv('../res/sample_taxi_region.csv') "
   ]
  },
  {
   "cell_type": "code",
   "execution_count": 23,
   "metadata": {},
   "outputs": [],
   "source": [
    "with open('../res/sz_block_mars.json', 'r') as f : \n",
    "    block_data = json.load(f) "
   ]
  },
  {
   "cell_type": "code",
   "execution_count": 24,
   "metadata": {},
   "outputs": [],
   "source": [
    "block_data = block_data['features']"
   ]
  },
  {
   "cell_type": "code",
   "execution_count": 25,
   "metadata": {},
   "outputs": [],
   "source": [
    "def in_this_region(coordiate, region) : \n",
    "    cross_cnt = 0 \n",
    "    for i in range(len(region)) : \n",
    "        l, r = region[i-1], region[i] \n",
    "        if l[1] == r[1] : \n",
    "            continue \n",
    "        if (l[1] > coordiate[1]) == (r[1] > coordiate[1]): \n",
    "            continue \n",
    "        x = (coordiate[1] - l[1]) * (r[0] - l[0]) / (r[1] - l[1]) + l[0] \n",
    "        if x < coordiate[0]: \n",
    "            continue \n",
    "        lx = l[0] if l[0] < r[0] else r[0] \n",
    "        rx = l[0] if l[0] > r[0] else r[0] \n",
    "        if lx <= x <= rx : \n",
    "            pass \n",
    "        else: \n",
    "            continue \n",
    "        cross_cnt += 1 \n",
    "    return cross_cnt % 2 == 1 \n",
    "\n",
    "def in_which_block(coordinate) : \n",
    "    results = [] \n",
    "    for i in range(len(block_data)) : \n",
    "        regions = block_data[i]['geometry']['coordinates'] \n",
    "        for region in regions: \n",
    "            is_in_this_region = in_this_region(coordinate, region) \n",
    "            if is_in_this_region : \n",
    "                results.append((block_data[i]['properties']['NAME'], block_data[i]['properties']['DISTRICT'], block_data[i]['properties']['BLOCK_ID']))\n",
    "                break \n",
    "    return results "
   ]
  },
  {
   "cell_type": "code",
   "execution_count": 35,
   "metadata": {},
   "outputs": [],
   "source": [
    "# Config of separate work \n",
    "\n",
    "TOTAL = 1000\n",
    "IAM = 0 # 0, 1, ... , TOTAL-1 "
   ]
  },
  {
   "cell_type": "code",
   "execution_count": 36,
   "metadata": {},
   "outputs": [
    {
     "name": "stdout",
     "output_type": "stream",
     "text": [
      "workload:  9843\n"
     ]
    }
   ],
   "source": [
    "# split data average as TOTAL parts \n",
    "data_len = len(data) \n",
    "split_len = data_len // TOTAL \n",
    "my_data = data.iloc[split_len * IAM : split_len * (IAM + 1)] \n",
    "print ('workload: ', len(my_data))"
   ]
  },
  {
   "cell_type": "code",
   "execution_count": 37,
   "metadata": {},
   "outputs": [],
   "source": [
    "# split data by block \n",
    "block_id = [-1 for _ in range(len(my_data))]\n",
    "lon = my_data['lon'] \n",
    "lat = my_data['lat'] \n",
    "index = 0\n",
    "for loni, lati in zip(lon, lat) : \n",
    "    i = in_which_block([loni, lati]) \n",
    "    if len(i) == 1: \n",
    "        block_id[index] = i[0][2] \n",
    "    index += 1 "
   ]
  }
 ],
 "metadata": {
  "kernelspec": {
   "display_name": "data_mining",
   "language": "python",
   "name": "python3"
  },
  "language_info": {
   "codemirror_mode": {
    "name": "ipython",
    "version": 3
   },
   "file_extension": ".py",
   "mimetype": "text/x-python",
   "name": "python",
   "nbconvert_exporter": "python",
   "pygments_lexer": "ipython3",
   "version": "3.9.12"
  },
  "orig_nbformat": 4
 },
 "nbformat": 4,
 "nbformat_minor": 2
}

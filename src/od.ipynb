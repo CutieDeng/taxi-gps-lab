{
 "cells": [
  {
   "cell_type": "code",
   "execution_count": 2,
   "metadata": {},
   "outputs": [],
   "source": [
    "import pandas as pd\n",
    "import geopandas as gpd\n",
    "import json\n",
    "from shapely.geometry import Point, LineString"
   ]
  },
  {
   "cell_type": "code",
   "execution_count": 3,
   "metadata": {},
   "outputs": [],
   "source": [
    "# data_frames = []\n",
    "\n",
    "# for i in range(1, 16):\n",
    "#     file_name = f\"../res/result{i}.csv\"\n",
    "#     df = pd.read_csv(file_name)\n",
    "#     data_frames.append(df)\n",
    "\n",
    "# # 使用 concat 函数将所有 DataFrame 合并为一个\n",
    "# result = pd.concat(data_frames)\n",
    "\n",
    "# result.to_csv(\"../res/sample_taxi_region.csv\")\n",
    "df = pd.read_csv(\"../res/sample_taxi_region.csv\")"
   ]
  },
  {
   "cell_type": "code",
   "execution_count": 4,
   "metadata": {},
   "outputs": [],
   "source": [
    "# 按照出租车编号对数据进行分组\n",
    "df_grouped = df.groupby('taxi_id')"
   ]
  },
  {
   "cell_type": "code",
   "execution_count": 16,
   "metadata": {},
   "outputs": [
    {
     "name": "stdout",
     "output_type": "stream",
     "text": [
      "<class 'pandas.core.groupby.generic.DataFrameGroupBy'>\n",
      "<class 'pandas.core.frame.DataFrame'>\n"
     ]
    }
   ],
   "source": [
    "# from datetime import datetime\n",
    "# # 定义一个将时间字符串转换为datetime类型的函数\n",
    "# def convert_time(time_string):\n",
    "#     return datetime.strptime(time_string, '%H:%M:%S')\n",
    "\n",
    "# # 使用apply行向量函数将整个时间列转换为datetime类型\n",
    "# df_grouped['time'] = df_grouped['time'].apply(lambda x: convert_time(x))\n",
    "# print(df_grouped.head(1000))\n",
    "print(type(df_grouped))\n",
    "df_grouped_slice = df_grouped.head(1000)\n",
    "print(type(df_grouped_slice))"
   ]
  },
  {
   "cell_type": "code",
   "execution_count": 18,
   "metadata": {},
   "outputs": [],
   "source": [
    "# 分别处理每个出租车的订单\n",
    "orders = []\n",
    "df_sorted = df_grouped.apply(lambda x: x.sort_values('time'))\n",
    "order_started = False\n",
    "order_start_lat = None\n",
    "order_start_lon = None\n",
    "order_end_lat = None\n",
    "order_end_lon = None\n",
    "order_start_district = None\n",
    "order_start_block = None\n",
    "order_end_district = None\n",
    "order_end_block = None\n",
    "for _, row in df_sorted.iterrows():\n",
    "    if row['is_passenger'] == 1 and not order_started:\n",
    "        # 如果订单开始，记录起始点位置和时间\n",
    "        order_start_lat = row['lat']\n",
    "        order_start_lon = row['lon']\n",
    "        order_start_time = row['time']\n",
    "        order_start_district = row['region']\n",
    "        order_start_block = row['block_id']\n",
    "        order_started = True\n",
    "    elif row['is_passenger'] == 0 and order_started:\n",
    "        # 如果订单结束，记录终点位置，添加订单记录\n",
    "        order_end_lat = row['lat']\n",
    "        order_end_lon = row['lon']\n",
    "        order_end_time = row['time']\n",
    "        order_end_district = row['region']\n",
    "        order_end_block = row['block_id']\n",
    "        orders.append((row['taxi_id'], order_start_lat, order_start_lon, order_end_lat, order_end_lon, order_start_time, order_end_time, order_start_district, order_start_block, order_end_district, order_end_block))\n",
    "        order_started = False"
   ]
  },
  {
   "cell_type": "code",
   "execution_count": 20,
   "metadata": {},
   "outputs": [],
   "source": [
    "# 将订单记录整合到DataFrame中\n",
    "orders_df = pd.DataFrame(orders, columns=['taxi_id', 'start_lat', 'start_lon', 'end_lat', 'end_lon', 'start_time', 'end_time', 'start_district', 'start_block', 'end_district', 'end_block'])\n",
    "orders_df.to_csv('../res/orders.csv', index=False)"
   ]
  }
 ],
 "metadata": {
  "kernelspec": {
   "display_name": "Python 3",
   "language": "python",
   "name": "python3"
  },
  "language_info": {
   "codemirror_mode": {
    "name": "ipython",
    "version": 3
   },
   "file_extension": ".py",
   "mimetype": "text/x-python",
   "name": "python",
   "nbconvert_exporter": "python",
   "pygments_lexer": "ipython3",
   "version": "3.10.8"
  },
  "orig_nbformat": 4
 },
 "nbformat": 4,
 "nbformat_minor": 2
}
